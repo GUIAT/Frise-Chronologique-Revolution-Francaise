{
 "cells": [
  {
   "cell_type": "markdown",
   "id": "7eb80815-06d6-4804-9046-409adeb6a7e3",
   "metadata": {},
   "source": [
    "idea what the data could look like\n",
    "(17890902, {'nom': 'Conseils Generaux', 'ville': 'versaille', 'sequenceHistorique': ''})\n",
    "(timestamp1, {'a':False, 'b':False, 'c':False}),\n",
    "(timestamp2, {'a':False, 'b':True, 'c':False}),\n",
    "(timestamp3, {'a':False, 'b':False, 'c':False}), \n",
    "(timestamp4, {'a':False, 'b':True, 'c':False}),\n",
    "https://stackoverflow.com/questions/38465620/looking-for-an-efficient-way-to-store-history-data"
   ]
  },
  {
   "cell_type": "markdown",
   "id": "820f7070-569d-47f7-bc83-a710300f71f5",
   "metadata": {},
   "source": [
    "### 1) RECUPERATION DU CONTENU DE LA PAGE WIKIPEDIA <br>\n",
    "https://fr.wikipedia.org/wiki/Chronologie_de_la_R%C3%A9volution_fran%C3%A7aise <br>"
   ]
  },
  {
   "cell_type": "code",
   "execution_count": 1,
   "id": "33d4cd86-24b6-414b-b071-b74772ed51a8",
   "metadata": {},
   "outputs": [],
   "source": [
    "# Importer les modules nécessaires\n",
    "import requests\n",
    "\n",
    "# Récupérer l'Url\n",
    "r = requests.get(\"https://fr.wikipedia.org/wiki/Chronologie_de_la_R%C3%A9volution_fran%C3%A7aise\")\n",
    "\n",
    "# Enregistrer le contenu dans un fichier\n",
    "with open(\"response.html\", \"w\") as f:\n",
    "    f.write(r.text)\n",
    "    f.close() \n"
   ]
  },
  {
   "cell_type": "code",
   "execution_count": 2,
   "id": "32fb1b1a-6b38-43bf-b5a1-283dc3123002",
   "metadata": {},
   "outputs": [],
   "source": [
    "# Importer les modules nécessaires\n",
    "from bs4 import BeautifulSoup\n",
    "import json\n",
    "\n",
    "# Lire le fichier contenant le contenu\n",
    "with open(\"response.html\", \"r\") as f:\n",
    " \n",
    "# Parser l'html pour récupérer les <h2>, <h3> et <li> visés\n",
    "    soup = BeautifulSoup(f, 'html.parser')\n",
    "\n",
    "periode = []\n",
    "annee = []\n",
    "dateEtEvenement = []\n",
    "dates = soup.find(class_=\"mw-body-content\").find_all(\"li\", class_=False)\n",
    "for date in dates:\n",
    "    if date.find_previous(\"h3\") == None:\n",
    "        periode.append(date.find_previous(\"h2\").text)\n",
    "        annee.append(0)\n",
    "        dateEtEvenement.append(date.text)\n",
    "    else:\n",
    "        periode.append(date.find_previous(\"h2\").text)\n",
    "        annee.append(date.find_previous(\"h3\").text)\n",
    "        dateEtEvenement.append(date.text)\n",
    "\n",
    "# Sauvegarder les fichiers\n",
    "with open(\"periode.json\", \"w\") as f:\n",
    "    json.dump(periode, f)\n",
    "    f.close() \n",
    "with open(\"annee.json\", \"w\") as f:\n",
    "    json.dump(annee, f)\n",
    "    f.close() \n",
    "with open(\"dateEtEvenement.json\", \"w\") as f:\n",
    "    json.dump(dateEtEvenement, f)\n",
    "    f.close() "
   ]
  },
  {
   "cell_type": "markdown",
   "id": "4a3e0522-cda2-4c45-99b0-1e13c6ef942e",
   "metadata": {},
   "source": [
    "### 2) NETTOYAGE DES DONNEES <br>"
   ]
  },
  {
   "cell_type": "code",
   "execution_count": 14,
   "id": "187dc416-58f2-4852-92c3-1918cfb306b8",
   "metadata": {
    "scrolled": true
   },
   "outputs": [
    {
     "name": "stdout",
     "output_type": "stream",
     "text": [
      "                Période Année  \\\n",
      "0  Prélude (année 1788)     0   \n",
      "1  Prélude (année 1788)     0   \n",
      "2  Prélude (année 1788)     0   \n",
      "3  Prélude (année 1788)     0   \n",
      "4  Prélude (année 1788)     0   \n",
      "\n",
      "                                     dateEtEvenement         date  \\\n",
      "0  7 juin : « Journée des Tuiles » à Grenoble. Le...      7 juin    \n",
      "1  14 juin : Les notables grenoblois se réunissen...     14 juin    \n",
      "2  21 juillet : Réunion des états généraux du Dau...  21 juillet    \n",
      "3  8 août : décision de convoquer les États génér...      8 août    \n",
      "4  25 août : Brienne démissionne. Il est remplacé...     25 août    \n",
      "\n",
      "                                           Evenement  \n",
      "0   « Journée des Tuiles » à Grenoble. Les Grenob...  \n",
      "1   Les notables grenoblois se réunissent à l'Hôt...  \n",
      "2   Réunion des états généraux du Dauphiné à Vizi...  \n",
      "3   décision de convoquer les États généraux pris...  \n",
      "4   Brienne démissionne. Il est remplacé par Jacq...  \n"
     ]
    },
    {
     "data": {
      "text/plain": [
       "' WORKS\\ndf2 = df.head(20)\\ndf2[[\"date\",\"Evenement\"]] = df2[\"dateEtEvenement\"].str.split(\":\", n = 1, expand = True)\\n'"
      ]
     },
     "execution_count": 14,
     "metadata": {},
     "output_type": "execute_result"
    }
   ],
   "source": [
    "# Importer les modules nécessaires\n",
    "import pandas as pd\n",
    "import json\n",
    "\n",
    "# Lire les jsons et récupérer les listes\n",
    "with open(\"periode.json\", \"r\") as f:\n",
    "    periode = json.load(f)\n",
    "with open(\"annee.json\", \"r\") as f:\n",
    "    annee = json.load(f)\n",
    "with open(\"dateEtEvenement.json\", \"r\") as f:\n",
    "    dateEtEvenement = json.load(f)\n",
    "    \n",
    "# Construire le dataframe \n",
    "df = pd.DataFrame ({'Période': periode, 'Année': annee, 'dateEtEvenement': dateEtEvenement})\n",
    "\n",
    "df[[\"date\",\"Evenement\"]] = df[\"dateEtEvenement\"].str.split(\":\", n = 1, expand = True)\n",
    "print(df.head())"
   ]
  },
  {
   "cell_type": "code",
   "execution_count": null,
   "id": "cb57db12-5e10-4d6e-8b9e-195c505b3d4d",
   "metadata": {
    "jupyter": {
     "source_hidden": true
    }
   },
   "outputs": [],
   "source": [
    "\"\"\"\n",
    "# Récupérer les index à supprimer\n",
    "toDrop = df.loc[(df['Période'] == 'Notes et références') | (df['Période'] == 'Voir aussi')].index\n",
    "df2 = df.drop(toDrop)\n",
    "#print(df2.head(10))\n",
    "#print(df2.tail(10))\n",
    "#print(df2.dtypes)\n",
    "#print(df2.describe())\n",
    "#print(df2.info())\n",
    "\n",
    "df2 = df2.drop([df2.index[193]                                    \n",
    ",df2.index[194]                     \n",
    ",df2.index[319]                            \n",
    ",df2.index[320]                               \n",
    ",df2.index[454]  \n",
    ",df2.index[489]           \n",
    ",df2.index[502]                       \n",
    ",df2.index[504]])\n",
    "\n",
    "#print(df2)\n",
    "\"\"\"\n",
    "\"\"\"\n",
    "toDrop = df2.loc[(df2['dateEtEvenement'].str.contains('Liste'))].index\n",
    "df2 = df2.drop(toDrop)\n",
    "#print(df2.head(10))\n",
    "#print(df2.tail(10))\n",
    "#print(df2.dtypes)\n",
    "#print(df3.describe())\n",
    "#print(df3.info())\n",
    "\"\"\"\n",
    "\"\"\"\n",
    "toDrop = df3.loc[(~df3['dateEtEvenement'].str.contains(r'(.*?):'))] #.index\n",
    "#print(toDrop)\n",
    "#df3 = df2.drop(toDrop)\n",
    "#print(df2.head(10))\n",
    "#print(df2.tail(10))\n",
    "#print(df2.dtypes)\n",
    "#print(df3.describe())\n",
    "#print(df3.info())\n",
    "\n",
    "dfGood = df3.loc[(df3['dateEtEvenement'].str.contains(r'(.*?):'))] #.index\n",
    "#print(dfGood)\n",
    "\n",
    "dfBad = df3.loc[(~df3['dateEtEvenement'].str.contains(r'(.*?):'))] #.index\n",
    "print(dfBad)\n",
    "\n",
    "\n",
    "12 septembre 1793 : \n",
    "bataille d'Avesnes-le-Sec (en)\n",
    "combat d'Haspres \n",
    "\n",
    "\n",
    "19 septembre : \n",
    "319                          bataille du Pont-Barré[7]  \n",
    "320                              bataille de Torfou[7] \n",
    "\n",
    "\n",
    "193                                   combat d'Haspres  \n",
    "194                     bataille d'Avesnes-le-Sec (en)  \n",
    "319                          bataille du Pont-Barré[7]  \n",
    "320                              bataille de Torfou[7]  \n",
    "454  En février on conseille à Bonaparte de porter ...  \n",
    "489           6 - 7 novembre bataille de Calliano (en)  \n",
    "502                        Expédition d'Irlande (1796)  \n",
    "504                        Expédition d'Irlande (1798)  \n",
    "\"\"\"\n",
    "\n",
    "\"\"\"\n",
    "for i in df2['dateEtEvenement']: \n",
    "    if i.count(\":\") == 2:\n",
    "        print(i)\n",
    "    if i.count(\":\") == 0:\n",
    "        print(i)\n",
    "\n",
    "    \n",
    "#find a way to split\n",
    "#print(df2['Date et Evènement'].str.split(' : ', n=1, expand=True))\n",
    "#df3.columns = ['column{}'.format(x+1) for x in df3.columns]\n",
    "#print(df2)\n",
    "#print(df2['Date et Evènement'].str.split(' : ', 1).tolist(), columns = ['Date', 'Evènement'])\n",
    "\n",
    "\"\"\"\n",
    "\"\"\"\n",
    "toDrop =[]\n",
    "for i in df2['dateEtEvenement']: \n",
    "    if i.count(\":\") == 2 | i.count(\":\") != 1 :\n",
    "        ind = df2.loc[(df2[i])].index\n",
    "        toDrop.append(ind)\n",
    "\"\"\"\n",
    "\"\"\"\n",
    "for i in df2['dateEtEvenement']: \n",
    "    if i.count(\":\") != 1:\n",
    "        print(i)\n",
    "\"\"\"  \n",
    "\"\"\"\n",
    "print(toDrop)\n",
    "#df2 = df2.drop(toDrop)\n",
    " \"\"\"       \n",
    "df2[['First','Last']] = df2.dateEtEvenement.str.split(r\"(.*?):\", n=1) #REGEX IMPORTANT DETERMINER PREMIER :\n",
    "\n",
    "print(df2)\n",
    "#bug"
   ]
  },
  {
   "cell_type": "markdown",
   "id": "e0a4db0c-9bf0-4919-b664-6b158e415ca1",
   "metadata": {},
   "source": [
    "Source : <br>\n",
    "https://www.geeksforgeeks.org/web-scraping-from-wikipedia-using-python-a-complete-guide/ <br>"
   ]
  },
  {
   "cell_type": "code",
   "execution_count": null,
   "id": "e3f888f8-60d5-4fc8-af51-04b95dd9fd34",
   "metadata": {},
   "outputs": [],
   "source": [
    "2) Save data in file <br>\n",
    "https://stackoverflow.com/questions/31126596/saving-response-from-requests-to-file"
   ]
  },
  {
   "cell_type": "code",
   "execution_count": null,
   "id": "b633340e-6b41-452d-b462-7e10a0e9d4a8",
   "metadata": {},
   "outputs": [],
   "source": [
    "3) Plot as a a timeline <br>\n",
    "https://matplotlib.org/stable/gallery/lines_bars_and_markers/timeline.html\n",
    "https://coderzcolumn.com/tutorials/data-science/timeline-using-matplotlib"
   ]
  },
  {
   "cell_type": "code",
   "execution_count": null,
   "id": "cb987f2d-c95a-4107-ac34-520cd5af68f1",
   "metadata": {},
   "outputs": [],
   "source": []
  }
 ],
 "metadata": {
  "kernelspec": {
   "display_name": "Python [conda env:jupyter_env] *",
   "language": "python",
   "name": "conda-env-jupyter_env-py"
  },
  "language_info": {
   "codemirror_mode": {
    "name": "ipython",
    "version": 3
   },
   "file_extension": ".py",
   "mimetype": "text/x-python",
   "name": "python",
   "nbconvert_exporter": "python",
   "pygments_lexer": "ipython3",
   "version": "3.12.2"
  }
 },
 "nbformat": 4,
 "nbformat_minor": 5
}
