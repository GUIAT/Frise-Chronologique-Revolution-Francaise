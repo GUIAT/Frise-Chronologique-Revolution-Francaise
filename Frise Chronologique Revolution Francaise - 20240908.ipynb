{
 "cells": [
  {
   "cell_type": "markdown",
   "id": "7eb80815-06d6-4804-9046-409adeb6a7e3",
   "metadata": {},
   "source": [
    "idea what the data could look like\n",
    "(17890902, {'nom': 'Conseils Generaux', 'ville': 'versaille', 'sequenceHistorique': ''})\n",
    "(timestamp1, {'a':False, 'b':False, 'c':False}),\n",
    "(timestamp2, {'a':False, 'b':True, 'c':False}),\n",
    "(timestamp3, {'a':False, 'b':False, 'c':False}), \n",
    "(timestamp4, {'a':False, 'b':True, 'c':False}),\n",
    "https://stackoverflow.com/questions/38465620/looking-for-an-efficient-way-to-store-history-data"
   ]
  },
  {
   "cell_type": "markdown",
   "id": "820f7070-569d-47f7-bc83-a710300f71f5",
   "metadata": {},
   "source": [
    "### 1) RECUPERATION DU CONTENU DE LA PAGE WIKIPEDIA <br>\n",
    "https://fr.wikipedia.org/wiki/Chronologie_de_la_R%C3%A9volution_fran%C3%A7aise <br>"
   ]
  },
  {
   "cell_type": "code",
   "execution_count": 1,
   "id": "33d4cd86-24b6-414b-b071-b74772ed51a8",
   "metadata": {},
   "outputs": [],
   "source": [
    "# Importer les modules nécessaires\n",
    "import requests\n",
    "\n",
    "# Récupérer l'Url\n",
    "r = requests.get(\"https://fr.wikipedia.org/wiki/Chronologie_de_la_R%C3%A9volution_fran%C3%A7aise\")\n",
    "\n",
    "# Enregistrer le contenu dans un fichier\n",
    "with open(\"response.html\", \"w\") as f:\n",
    "    f.write(r.text)\n",
    "    f.close() \n"
   ]
  },
  {
   "cell_type": "code",
   "execution_count": 2,
   "id": "32fb1b1a-6b38-43bf-b5a1-283dc3123002",
   "metadata": {},
   "outputs": [],
   "source": [
    "# Importer les modules nécessaires\n",
    "from bs4 import BeautifulSoup\n",
    "import json\n",
    "\n",
    "# Lire le fichier contenant le contenu\n",
    "with open(\"response.html\", \"r\") as f:\n",
    " \n",
    "# Parser l'html pour récupérer les <h2>, <h3> et <li> visés\n",
    "    soup = BeautifulSoup(f, 'html.parser')\n",
    "\n",
    "periode = []\n",
    "annee = []\n",
    "dateEtEvenement = []\n",
    "dates = soup.find(class_=\"mw-body-content\").find_all(\"li\", class_=False)\n",
    "for date in dates:\n",
    "    if date.find_previous(\"h3\") == None:\n",
    "        periode.append(date.find_previous(\"h2\").text)\n",
    "        annee.append(0)\n",
    "        dateEtEvenement.append(date.text)\n",
    "    else:\n",
    "        periode.append(date.find_previous(\"h2\").text)\n",
    "        annee.append(date.find_previous(\"h3\").text)\n",
    "        dateEtEvenement.append(date.text)\n",
    "\n",
    "# Sauvegarder les fichiers\n",
    "with open(\"periode.json\", \"w\") as f:\n",
    "    json.dump(periode, f)\n",
    "    f.close() \n",
    "with open(\"annee.json\", \"w\") as f:\n",
    "    json.dump(annee, f)\n",
    "    f.close() \n",
    "with open(\"dateEtEvenement.json\", \"w\") as f:\n",
    "    json.dump(dateEtEvenement, f)\n",
    "    f.close() "
   ]
  },
  {
   "cell_type": "markdown",
   "id": "4a3e0522-cda2-4c45-99b0-1e13c6ef942e",
   "metadata": {},
   "source": [
    "### 2) NETTOYAGE DES DONNEES <br>"
   ]
  },
  {
   "cell_type": "code",
   "execution_count": 3,
   "id": "46a32bac-611d-4662-9d29-0da0c49743a7",
   "metadata": {},
   "outputs": [
    {
     "name": "stdout",
     "output_type": "stream",
     "text": [
      "Collecting dateparser\n",
      "  Downloading dateparser-1.2.0-py2.py3-none-any.whl.metadata (28 kB)\n",
      "Requirement already satisfied: python-dateutil in ./miniconda3/envs/jupyter_env/lib/python3.12/site-packages (from dateparser) (2.9.0)\n",
      "Requirement already satisfied: pytz in ./miniconda3/envs/jupyter_env/lib/python3.12/site-packages (from dateparser) (2024.1)\n",
      "Collecting regex!=2019.02.19,!=2021.8.27 (from dateparser)\n",
      "  Downloading regex-2024.9.11-cp312-cp312-manylinux_2_17_x86_64.manylinux2014_x86_64.whl.metadata (40 kB)\n",
      "Collecting tzlocal (from dateparser)\n",
      "  Downloading tzlocal-5.2-py3-none-any.whl.metadata (7.8 kB)\n",
      "Requirement already satisfied: six>=1.5 in ./miniconda3/envs/jupyter_env/lib/python3.12/site-packages (from python-dateutil->dateparser) (1.16.0)\n",
      "Downloading dateparser-1.2.0-py2.py3-none-any.whl (294 kB)\n",
      "Downloading regex-2024.9.11-cp312-cp312-manylinux_2_17_x86_64.manylinux2014_x86_64.whl (797 kB)\n",
      "\u001b[2K   \u001b[38;2;114;156;31m━━━━━━━━━━━━━━━━━━━━━━━━━━━━━━━━━━━━━━━━\u001b[0m \u001b[32m797.0/797.0 kB\u001b[0m \u001b[31m1.2 MB/s\u001b[0m eta \u001b[36m0:00:00\u001b[0m MB/s\u001b[0m eta \u001b[36m0:00:01\u001b[0m\n",
      "\u001b[?25hDownloading tzlocal-5.2-py3-none-any.whl (17 kB)\n",
      "Installing collected packages: tzlocal, regex, dateparser\n",
      "Successfully installed dateparser-1.2.0 regex-2024.9.11 tzlocal-5.2\n",
      "Note: you may need to restart the kernel to use updated packages.\n"
     ]
    }
   ],
   "source": [
    "pip install dateparser"
   ]
  },
  {
   "cell_type": "code",
   "execution_count": 2,
   "id": "187dc416-58f2-4852-92c3-1918cfb306b8",
   "metadata": {
    "scrolled": true
   },
   "outputs": [
    {
     "name": "stdout",
     "output_type": "stream",
     "text": [
      "   datetimeParse                                          Evenement  level\n",
      "0     1788-06-07   « Journée des Tuiles » à Grenoble. Les Grenob...     -3\n",
      "1     1788-06-14   Les notables grenoblois se réunissent à l'Hôt...      2\n",
      "2     1788-07-21   Réunion des états généraux du Dauphiné à Vizi...     -3\n",
      "3     1788-08-08   décision de convoquer les États généraux pris...      4\n",
      "4     1788-08-25   Brienne démissionne. Il est remplacé par Jacq...     -5\n",
      "5     1788-12-27   Necker, préparant les États généraux, accepte...      5\n",
      "6     1788-12-29   Marseille réclame l’augmentation du nombre de...     -5\n",
      "7     1789-05-05   ouverture des États généraux à Versailles dan...      5\n",
      "8     1789-06-20   serment du Jeu de paume par les 576 députés e...     -4\n",
      "9     1789-07-01   par ordre du Roi, des troupes se rassemblent ...      4\n",
      "10    1789-07-14                              prise de la Bastille.     -4\n",
      "11    1789-08-04     abolition des privilèges et du système féodal.      4\n",
      "12    1789-08-26   déclaration des droits de l'homme et du citoy...     -3\n",
      "13    1789-11-02               nationalisation des biens du clergé.      2\n",
      "14    1790-02-12   suppression des ordres monastiques et religie...     -6\n",
      "15    1790-05-08   décret portant établissement de l'uniformité ...      2\n",
      "16    1790-08-18   premier rassemblement de défense de la révolu...     -5\n",
      "17    1791-02-28        conspiration des « chevaliers du poignard »      4\n",
      "18    1791-03-10   bref apostolique du pape Pie VI qui condamne ...     -5\n",
      "19    1791-03-15   rupture des relations diplomatiques de la Fra...      3\n"
     ]
    }
   ],
   "source": [
    "# Importer les modules nécessaires\n",
    "import pandas as pd\n",
    "import numpy as np\n",
    "import dateparser\n",
    "import json\n",
    "\n",
    "# Lire les jsons et récupérer les listes\n",
    "with open(\"periode.json\", \"r\") as f:\n",
    "    periode = json.load(f)\n",
    "with open(\"annee.json\", \"r\") as f:\n",
    "    annee = json.load(f)\n",
    "with open(\"dateEtEvenement.json\", \"r\") as f:\n",
    "    dateEtEvenement = json.load(f)\n",
    "    \n",
    "# Construire le dataframe \n",
    "df = pd.DataFrame ({'Période': periode, 'Année': annee, 'dateEtEvenement': dateEtEvenement})\n",
    "\n",
    "# Processus de récupération du datetime\n",
    "df[[\"date\",\"Evenement\"]] = df[\"dateEtEvenement\"].str.split(\":\", n = 1, expand = True)\n",
    "\n",
    "df[\"Année\"] = df[\"Année\"].replace(0, \"1788\")\n",
    "\n",
    "df[\"datetime\"] = df[\"date\"].astype('str') + \" \" + df[\"Année\"].astype('str')\n",
    "\n",
    "df[\"datetimeParse\"] = df[\"datetime\"].apply(dateparser.parse)\n",
    "df[\"datetimeParse\"] = pd.to_datetime(df[\"datetimeParse\"])\n",
    "\n",
    "df[\"level\"] = [np.random.randint(-6,-2) if (i%2)==0 else np.random.randint(2,6) for i in range(len(df))]\n",
    "\n",
    "df2 = df.head(20)\n",
    "df2 = df2[[\"datetimeParse\", \"Evenement\", \"level\"]]\n",
    "print(df2)\n",
    "\n",
    "#print(df[\"Evenement\"].value_counts(ascending=True))\n",
    "#print(df.info())"
   ]
  },
  {
   "cell_type": "code",
   "execution_count": null,
   "id": "cb57db12-5e10-4d6e-8b9e-195c505b3d4d",
   "metadata": {
    "jupyter": {
     "source_hidden": true
    }
   },
   "outputs": [],
   "source": [
    "\"\"\"\n",
    "# Récupérer les index à supprimer\n",
    "toDrop = df.loc[(df['Période'] == 'Notes et références') | (df['Période'] == 'Voir aussi')].index\n",
    "df2 = df.drop(toDrop)\n",
    "#print(df2.head(10))\n",
    "#print(df2.tail(10))\n",
    "#print(df2.dtypes)\n",
    "#print(df2.describe())\n",
    "#print(df2.info())\n",
    "\n",
    "df2 = df2.drop([df2.index[193]                                    \n",
    ",df2.index[194]                     \n",
    ",df2.index[319]                            \n",
    ",df2.index[320]                               \n",
    ",df2.index[454]  \n",
    ",df2.index[489]           \n",
    ",df2.index[502]                       \n",
    ",df2.index[504]])\n",
    "\n",
    "#print(df2)\n",
    "\"\"\"\n",
    "\"\"\"\n",
    "toDrop = df2.loc[(df2['dateEtEvenement'].str.contains('Liste'))].index\n",
    "df2 = df2.drop(toDrop)\n",
    "#print(df2.head(10))\n",
    "#print(df2.tail(10))\n",
    "#print(df2.dtypes)\n",
    "#print(df3.describe())\n",
    "#print(df3.info())\n",
    "\"\"\"\n",
    "\"\"\"\n",
    "toDrop = df3.loc[(~df3['dateEtEvenement'].str.contains(r'(.*?):'))] #.index\n",
    "#print(toDrop)\n",
    "#df3 = df2.drop(toDrop)\n",
    "#print(df2.head(10))\n",
    "#print(df2.tail(10))\n",
    "#print(df2.dtypes)\n",
    "#print(df3.describe())\n",
    "#print(df3.info())\n",
    "\n",
    "dfGood = df3.loc[(df3['dateEtEvenement'].str.contains(r'(.*?):'))] #.index\n",
    "#print(dfGood)\n",
    "\n",
    "dfBad = df3.loc[(~df3['dateEtEvenement'].str.contains(r'(.*?):'))] #.index\n",
    "print(dfBad)\n",
    "\n",
    "\n",
    "12 septembre 1793 : \n",
    "bataille d'Avesnes-le-Sec (en)\n",
    "combat d'Haspres \n",
    "\n",
    "\n",
    "19 septembre : \n",
    "319                          bataille du Pont-Barré[7]  \n",
    "320                              bataille de Torfou[7] \n",
    "\n",
    "\n",
    "193                                   combat d'Haspres  \n",
    "194                     bataille d'Avesnes-le-Sec (en)  \n",
    "319                          bataille du Pont-Barré[7]  \n",
    "320                              bataille de Torfou[7]  \n",
    "454  En février on conseille à Bonaparte de porter ...  \n",
    "489           6 - 7 novembre bataille de Calliano (en)  \n",
    "502                        Expédition d'Irlande (1796)  \n",
    "504                        Expédition d'Irlande (1798)  \n",
    "\"\"\"\n",
    "\n",
    "\"\"\"\n",
    "for i in df2['dateEtEvenement']: \n",
    "    if i.count(\":\") == 2:\n",
    "        print(i)\n",
    "    if i.count(\":\") == 0:\n",
    "        print(i)\n",
    "\n",
    "    \n",
    "#find a way to split\n",
    "#print(df2['Date et Evènement'].str.split(' : ', n=1, expand=True))\n",
    "#df3.columns = ['column{}'.format(x+1) for x in df3.columns]\n",
    "#print(df2)\n",
    "#print(df2['Date et Evènement'].str.split(' : ', 1).tolist(), columns = ['Date', 'Evènement'])\n",
    "\n",
    "\"\"\"\n",
    "\"\"\"\n",
    "toDrop =[]\n",
    "for i in df2['dateEtEvenement']: \n",
    "    if i.count(\":\") == 2 | i.count(\":\") != 1 :\n",
    "        ind = df2.loc[(df2[i])].index\n",
    "        toDrop.append(ind)\n",
    "\"\"\"\n",
    "\"\"\"\n",
    "for i in df2['dateEtEvenement']: \n",
    "    if i.count(\":\") != 1:\n",
    "        print(i)\n",
    "\"\"\"  \n",
    "\"\"\"\n",
    "print(toDrop)\n",
    "#df2 = df2.drop(toDrop)\n",
    " \"\"\"       \n",
    "df2[['First','Last']] = df2.dateEtEvenement.str.split(r\"(.*?):\", n=1) #REGEX IMPORTANT DETERMINER PREMIER :\n",
    "\n",
    "print(df2)\n",
    "#bug"
   ]
  },
  {
   "cell_type": "code",
   "execution_count": 34,
   "id": "84bf5e24-2bfd-401e-acf5-73cb31f33207",
   "metadata": {
    "collapsed": true,
    "jupyter": {
     "outputs_hidden": true
    },
    "scrolled": true
   },
   "outputs": [
    {
     "name": "stdout",
     "output_type": "stream",
     "text": [
      "Collecting matplotlib\n",
      "  Downloading matplotlib-3.9.2-cp312-cp312-manylinux_2_17_x86_64.manylinux2014_x86_64.whl.metadata (11 kB)\n",
      "Collecting contourpy>=1.0.1 (from matplotlib)\n",
      "  Downloading contourpy-1.3.0-cp312-cp312-manylinux_2_17_x86_64.manylinux2014_x86_64.whl.metadata (5.4 kB)\n",
      "Collecting cycler>=0.10 (from matplotlib)\n",
      "  Downloading cycler-0.12.1-py3-none-any.whl.metadata (3.8 kB)\n",
      "Collecting fonttools>=4.22.0 (from matplotlib)\n",
      "  Downloading fonttools-4.54.1-cp312-cp312-manylinux_2_5_x86_64.manylinux1_x86_64.manylinux_2_17_x86_64.manylinux2014_x86_64.whl.metadata (163 kB)\n",
      "Collecting kiwisolver>=1.3.1 (from matplotlib)\n",
      "  Downloading kiwisolver-1.4.7-cp312-cp312-manylinux_2_17_x86_64.manylinux2014_x86_64.whl.metadata (6.3 kB)\n",
      "Requirement already satisfied: numpy>=1.23 in ./miniconda3/envs/jupyter_env/lib/python3.12/site-packages (from matplotlib) (2.1.1)\n",
      "Requirement already satisfied: packaging>=20.0 in ./miniconda3/envs/jupyter_env/lib/python3.12/site-packages (from matplotlib) (24.1)\n",
      "Collecting pillow>=8 (from matplotlib)\n",
      "  Downloading pillow-10.4.0-cp312-cp312-manylinux_2_28_x86_64.whl.metadata (9.2 kB)\n",
      "Collecting pyparsing>=2.3.1 (from matplotlib)\n",
      "  Downloading pyparsing-3.1.4-py3-none-any.whl.metadata (5.1 kB)\n",
      "Requirement already satisfied: python-dateutil>=2.7 in ./miniconda3/envs/jupyter_env/lib/python3.12/site-packages (from matplotlib) (2.9.0)\n",
      "Requirement already satisfied: six>=1.5 in ./miniconda3/envs/jupyter_env/lib/python3.12/site-packages (from python-dateutil>=2.7->matplotlib) (1.16.0)\n",
      "Downloading matplotlib-3.9.2-cp312-cp312-manylinux_2_17_x86_64.manylinux2014_x86_64.whl (8.3 MB)\n",
      "\u001b[2K   \u001b[38;2;114;156;31m━━━━━━━━━━━━━━━━━━━━━━━━━━━━━━━━━━━━━━━━\u001b[0m \u001b[32m8.3/8.3 MB\u001b[0m \u001b[31m1.5 MB/s\u001b[0m eta \u001b[36m0:00:00\u001b[0m[31m1.5 MB/s\u001b[0m eta \u001b[36m0:00:01\u001b[0m\n",
      "\u001b[?25hDownloading contourpy-1.3.0-cp312-cp312-manylinux_2_17_x86_64.manylinux2014_x86_64.whl (320 kB)\n",
      "Downloading cycler-0.12.1-py3-none-any.whl (8.3 kB)\n",
      "Downloading fonttools-4.54.1-cp312-cp312-manylinux_2_5_x86_64.manylinux1_x86_64.manylinux_2_17_x86_64.manylinux2014_x86_64.whl (4.9 MB)\n",
      "\u001b[2K   \u001b[38;2;114;156;31m━━━━━━━━━━━━━━━━━━━━━━━━━━━━━━━━━━━━━━━━\u001b[0m \u001b[32m4.9/4.9 MB\u001b[0m \u001b[31m2.1 MB/s\u001b[0m eta \u001b[36m0:00:00\u001b[0m[31m2.2 MB/s\u001b[0m eta \u001b[36m0:00:01\u001b[0m\n",
      "\u001b[?25hDownloading kiwisolver-1.4.7-cp312-cp312-manylinux_2_17_x86_64.manylinux2014_x86_64.whl (1.5 MB)\n",
      "\u001b[2K   \u001b[38;2;114;156;31m━━━━━━━━━━━━━━━━━━━━━━━━━━━━━━━━━━━━━━━━\u001b[0m \u001b[32m1.5/1.5 MB\u001b[0m \u001b[31m1.9 MB/s\u001b[0m eta \u001b[36m0:00:00\u001b[0m[31m1.9 MB/s\u001b[0m eta \u001b[36m0:00:01\u001b[0m\n",
      "\u001b[?25hDownloading pillow-10.4.0-cp312-cp312-manylinux_2_28_x86_64.whl (4.5 MB)\n",
      "\u001b[2K   \u001b[38;2;114;156;31m━━━━━━━━━━━━━━━━━━━━━━━━━━━━━━━━━━━━━━━━\u001b[0m \u001b[32m4.5/4.5 MB\u001b[0m \u001b[31m2.0 MB/s\u001b[0m eta \u001b[36m0:00:00\u001b[0m[36m0:00:01\u001b[0mm eta \u001b[36m0:00:01\u001b[0m\n",
      "\u001b[?25hDownloading pyparsing-3.1.4-py3-none-any.whl (104 kB)\n",
      "Installing collected packages: pyparsing, pillow, kiwisolver, fonttools, cycler, contourpy, matplotlib\n",
      "Successfully installed contourpy-1.3.0 cycler-0.12.1 fonttools-4.54.1 kiwisolver-1.4.7 matplotlib-3.9.2 pillow-10.4.0 pyparsing-3.1.4\n",
      "Note: you may need to restart the kernel to use updated packages.\n"
     ]
    }
   ],
   "source": [
    "pip install matplotlib"
   ]
  },
  {
   "cell_type": "code",
   "execution_count": 53,
   "id": "93c92996-951b-4425-ac58-a0410c45b1a6",
   "metadata": {},
   "outputs": [
    {
     "ename": "SyntaxError",
     "evalue": "cannot assign to keyword argument unpacking (3370839948.py, line 17)",
     "output_type": "error",
     "traceback": [
      "\u001b[0;36m  Cell \u001b[0;32mIn[53], line 17\u001b[0;36m\u001b[0m\n\u001b[0;31m    ha=\"center\", **wrap=True\u001b[0m\n\u001b[0m                 ^\u001b[0m\n\u001b[0;31mSyntaxError\u001b[0m\u001b[0;31m:\u001b[0m cannot assign to keyword argument unpacking\n"
     ]
    }
   ],
   "source": [
    "import matplotlib.pyplot as plt\n",
    "\n",
    "fig, ax = plt.subplots(figsize=(16,9))\n",
    "\n",
    "#ax.plot(df2[\"datetimeParse\"], [0,]* len(df2), \"-o\", color=\"black\", markerfacecolor=\"white\");\n",
    "ax.plot(df2[\"datetimeParse\"],  [0,]* len(df2), \"-o\", color=\"black\");\n",
    "\n",
    "#ax.set_xticks(pd.date_range(\"1788-06-07\", \"1791-03-15\", freq=\"YS\"), range(1788, 1791));\n",
    "ax.set_xticks(pd.date_range(\"1788-06-07\", \"1791-03-15\", freq=\"YS\"), range(1788, 1791));\n",
    "ax.set_ylim(-10,10);\n",
    "\n",
    "for idx in range(len(df2)):\n",
    "    dt, evenement, level = df2[\"datetimeParse\"][idx], df2[\"Evenement\"][idx], df2[\"level\"][idx]\n",
    "    dt_str = dt.strftime(\"%b-%Y\")\n",
    "    ax.annotate(dt_str + \"\\n\" + evenement, xy=(dt, 0.1 if level>0 else -0.1),xytext=(dt, level),\n",
    "                arrowprops=dict(arrowstyle=\"-\",color=\"red\", linewidth=1),\n",
    "                ha=\"center\", **wrap=True\n",
    "               );\n",
    "\n",
    "ax.spines[[\"left\", \"top\", \"right\", \"bottom\"]].set_visible(False);\n",
    "ax.spines[[\"bottom\"]].set_position((\"axes\", 0.5));\n",
    "ax.yaxis.set_visible(False);\n",
    "ax.set_title(\"La Révolution Française\", pad=10, loc=\"left\", fontsize=25, fontweight=\"bold\");\n",
    "#plt.savefig('RevFr.png')\n",
    "plt.show()"
   ]
  },
  {
   "cell_type": "markdown",
   "id": "e0a4db0c-9bf0-4919-b664-6b158e415ca1",
   "metadata": {},
   "source": [
    "Source : <br>\n",
    "https://www.geeksforgeeks.org/web-scraping-from-wikipedia-using-python-a-complete-guide/ <br>"
   ]
  },
  {
   "cell_type": "code",
   "execution_count": null,
   "id": "e3f888f8-60d5-4fc8-af51-04b95dd9fd34",
   "metadata": {},
   "outputs": [],
   "source": [
    "2) Save data in file <br>\n",
    "https://stackoverflow.com/questions/31126596/saving-response-from-requests-to-file"
   ]
  },
  {
   "cell_type": "code",
   "execution_count": null,
   "id": "b633340e-6b41-452d-b462-7e10a0e9d4a8",
   "metadata": {},
   "outputs": [],
   "source": [
    "3) Plot as a a timeline <br>\n",
    "https://matplotlib.org/stable/gallery/lines_bars_and_markers/timeline.html\n",
    "https://coderzcolumn.com/tutorials/data-science/timeline-using-matplotlib"
   ]
  },
  {
   "cell_type": "code",
   "execution_count": null,
   "id": "cb987f2d-c95a-4107-ac34-520cd5af68f1",
   "metadata": {},
   "outputs": [],
   "source": []
  }
 ],
 "metadata": {
  "kernelspec": {
   "display_name": "Python [conda env:jupyter_env] *",
   "language": "python",
   "name": "conda-env-jupyter_env-py"
  },
  "language_info": {
   "codemirror_mode": {
    "name": "ipython",
    "version": 3
   },
   "file_extension": ".py",
   "mimetype": "text/x-python",
   "name": "python",
   "nbconvert_exporter": "python",
   "pygments_lexer": "ipython3",
   "version": "3.12.2"
  }
 },
 "nbformat": 4,
 "nbformat_minor": 5
}
