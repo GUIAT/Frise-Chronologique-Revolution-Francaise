{
 "cells": [
  {
   "cell_type": "markdown",
   "id": "7eb80815-06d6-4804-9046-409adeb6a7e3",
   "metadata": {},
   "source": [
    "idea what the data could look like\n",
    "(17890902, {'nom': 'Conseils Generaux', 'ville': 'versaille', 'sequenceHistorique': ''})\n",
    "(timestamp1, {'a':False, 'b':False, 'c':False}),\n",
    "(timestamp2, {'a':False, 'b':True, 'c':False}),\n",
    "(timestamp3, {'a':False, 'b':False, 'c':False}), \n",
    "(timestamp4, {'a':False, 'b':True, 'c':False}),\n",
    "https://stackoverflow.com/questions/38465620/looking-for-an-efficient-way-to-store-history-data"
   ]
  },
  {
   "cell_type": "markdown",
   "id": "820f7070-569d-47f7-bc83-a710300f71f5",
   "metadata": {},
   "source": [
    "### 1) RECUPERATION DU CONTENU DE LA PAGE WIKIPEDIA <br>\n",
    "https://fr.wikipedia.org/wiki/Chronologie_de_la_R%C3%A9volution_fran%C3%A7aise <br>"
   ]
  },
  {
   "cell_type": "code",
   "execution_count": 1,
   "id": "33d4cd86-24b6-414b-b071-b74772ed51a8",
   "metadata": {},
   "outputs": [],
   "source": [
    "# Importer les modules nécessaires\n",
    "import requests\n",
    "\n",
    "# Récupérer l'Url\n",
    "r = requests.get(\"https://fr.wikipedia.org/wiki/Chronologie_de_la_R%C3%A9volution_fran%C3%A7aise\")\n",
    "\n",
    "# Enregistrer le contenu dans un fichier\n",
    "with open(\"response.html\", \"w\") as f:\n",
    "    f.write(r.text)\n",
    "    f.close() \n"
   ]
  },
  {
   "cell_type": "code",
   "execution_count": 97,
   "id": "32fb1b1a-6b38-43bf-b5a1-283dc3123002",
   "metadata": {},
   "outputs": [],
   "source": [
    "# Importer les modules nécessaires\n",
    "from bs4 import BeautifulSoup\n",
    "import json\n",
    "\n",
    "# Lire le fichier contenant le contenu\n",
    "with open(\"response.html\", \"r\") as f:\n",
    " \n",
    "# Parser l'html pour récupérer les <h2>, <h3> et <li> visés\n",
    "    soup = BeautifulSoup(f, 'html.parser')\n",
    "\n",
    "periode = []\n",
    "annee = []\n",
    "dateEtEvenement = []\n",
    "dates = soup.find(class_=\"mw-body-content\").find_all(\"li\", class_=False)\n",
    "for date in dates:\n",
    "    if date.find_previous(\"h3\") == None:\n",
    "        periode.append(date.find_previous(\"h2\").text)\n",
    "        annee.append(0)\n",
    "        dateEtEvenement.append(date.text)\n",
    "    else:\n",
    "        periode.append(date.find_previous(\"h2\").text)\n",
    "        annee.append(date.find_previous(\"h3\").text)\n",
    "        dateEtEvenement.append(date.text)\n",
    "\n",
    "# Sauvegarder les fichiers\n",
    "with open(\"periode.json\", \"w\") as f:\n",
    "    json.dump(periode, f)\n",
    "    f.close() \n",
    "with open(\"annee.json\", \"w\") as f:\n",
    "    json.dump(annee, f)\n",
    "    f.close() \n",
    "with open(\"dateEtEvenement.json\", \"w\") as f:\n",
    "    json.dump(dateEtEvenement, f)\n",
    "    f.close() "
   ]
  },
  {
   "cell_type": "markdown",
   "id": "4a3e0522-cda2-4c45-99b0-1e13c6ef942e",
   "metadata": {},
   "source": [
    "### 2) NETTOYAGE DES DONNEES <br>"
   ]
  },
  {
   "cell_type": "code",
   "execution_count": 58,
   "id": "187dc416-58f2-4852-92c3-1918cfb306b8",
   "metadata": {},
   "outputs": [
    {
     "name": "stdout",
     "output_type": "stream",
     "text": [
      "                                               Période Année  \\\n",
      "193  Convention montagnarde (1793-1794) et Première...  1793   \n",
      "194  Convention montagnarde (1793-1794) et Première...  1793   \n",
      "319                    Guerre de Vendée et Chouannerie  1793   \n",
      "320                    Guerre de Vendée et Chouannerie  1793   \n",
      "454       Directoire (1795-1798) et Première Coalition  1798   \n",
      "489                      Campagne d'Italie (1796-1797)  1796   \n",
      "502              Expéditions d'Irlande de 1796 et 1798  1796   \n",
      "504              Expéditions d'Irlande de 1796 et 1798  1798   \n",
      "\n",
      "                                       dateEtEvenement  \n",
      "193                                   combat d'Haspres  \n",
      "194                     bataille d'Avesnes-le-Sec (en)  \n",
      "319                          bataille du Pont-Barré[7]  \n",
      "320                              bataille de Torfou[7]  \n",
      "454  En février on conseille à Bonaparte de porter ...  \n",
      "489           6 - 7 novembre bataille de Calliano (en)  \n",
      "502                        Expédition d'Irlande (1796)  \n",
      "504                        Expédition d'Irlande (1798)  \n"
     ]
    },
    {
     "name": "stderr",
     "output_type": "stream",
     "text": [
      "/tmp/ipykernel_3735/1326488139.py:38: UserWarning: This pattern is interpreted as a regular expression, and has match groups. To actually get the groups, use str.extract.\n",
      "  toDrop = df3.loc[(~df3['dateEtEvenement'].str.contains(r'(.*?):'))] #.index\n",
      "/tmp/ipykernel_3735/1326488139.py:47: UserWarning: This pattern is interpreted as a regular expression, and has match groups. To actually get the groups, use str.extract.\n",
      "  dfGood = df3.loc[(df3['dateEtEvenement'].str.contains(r'(.*?):'))] #.index\n",
      "/tmp/ipykernel_3735/1326488139.py:50: UserWarning: This pattern is interpreted as a regular expression, and has match groups. To actually get the groups, use str.extract.\n",
      "  dfBad = df3.loc[(~df3['dateEtEvenement'].str.contains(r'(.*?):'))] #.index\n"
     ]
    },
    {
     "data": {
      "text/plain": [
       "'\\n#df2[[\\'First\\',\\'Last\\']] = df2.dateEtEvenement.str.split(r\"(.*?):\", n=1) #REGEX IMPORTANT DETERMINER PREMIER :\\nfor i in df[\\'dateEtEvenement\\']: \\n    if i.count(\":\") == 2:\\n        print(i)\\n    if i.count(\":\") == 0:\\n        print(i)\\n    \\n#find a way to split\\n#print(df2[\\'Date et Evènement\\'].str.split(\\' : \\', n=1, expand=True))\\n#df3.columns = [\\'column{}\\'.format(x+1) for x in df3.columns]\\n#print(df2)\\n#print(df2[\\'Date et Evènement\\'].str.split(\\' : \\', 1).tolist(), columns = [\\'Date\\', \\'Evènement\\'])\\n\\n#print(df2)\\n'"
      ]
     },
     "execution_count": 58,
     "metadata": {},
     "output_type": "execute_result"
    }
   ],
   "source": [
    "# Importer les modules nécessaires\n",
    "import pandas as pd\n",
    "import json\n",
    "\n",
    "# Lire les jsons et récupérer les listes\n",
    "with open(\"periode.json\", \"r\") as f:\n",
    "    periode = json.load(f)\n",
    "with open(\"annee.json\", \"r\") as f:\n",
    "    annee = json.load(f)\n",
    "with open(\"dateEtEvenement.json\", \"r\") as f:\n",
    "    dateEtEvenement = json.load(f)\n",
    "    \n",
    "# Construire le dataframe \n",
    "df = pd.DataFrame ({'Période': periode, 'Année': annee, 'dateEtEvenement': dateEtEvenement})\n",
    "#print(df.head(10))\n",
    "#print(df.tail(10))\n",
    "#print(df.dtypes)\n",
    "#print(df.describe())\n",
    "#print(df.info())\n",
    "\n",
    "# Récupérer les index à supprimer\n",
    "toDrop = df.loc[(df['Période'] == 'Notes et références') | (df['Période'] == 'Voir aussi')].index\n",
    "df2 = df.drop(toDrop)\n",
    "#print(df2.head(10))\n",
    "#print(df2.tail(10))\n",
    "#print(df2.dtypes)\n",
    "#print(df2.describe())\n",
    "#print(df2.info())\n",
    "\n",
    "\"\"\"\n",
    "toDrop = df2.loc[(df2['dateEtEvenement'].str.contains('Liste'))].index\n",
    "df3 = df2.drop(toDrop)\n",
    "#print(df2.head(10))\n",
    "#print(df2.tail(10))\n",
    "#print(df2.dtypes)\n",
    "#print(df3.describe())\n",
    "#print(df3.info())\n",
    "\n",
    "toDrop = df3.loc[(~df3['dateEtEvenement'].str.contains(r'(.*?):'))] #.index\n",
    "#print(toDrop)\n",
    "#df3 = df2.drop(toDrop)\n",
    "#print(df2.head(10))\n",
    "#print(df2.tail(10))\n",
    "#print(df2.dtypes)\n",
    "#print(df3.describe())\n",
    "#print(df3.info())\n",
    "\n",
    "dfGood = df3.loc[(df3['dateEtEvenement'].str.contains(r'(.*?):'))] #.index\n",
    "#print(dfGood)\n",
    "\n",
    "dfBad = df3.loc[(~df3['dateEtEvenement'].str.contains(r'(.*?):'))] #.index\n",
    "print(dfBad)\n",
    "\n",
    "\n",
    "12 septembre 1793 : \n",
    "bataille d'Avesnes-le-Sec (en)\n",
    "combat d'Haspres \n",
    "\n",
    "\n",
    "19 septembre : \n",
    "319                          bataille du Pont-Barré[7]  \n",
    "320                              bataille de Torfou[7] \n",
    "\n",
    "\n",
    "193                                   combat d'Haspres  \n",
    "194                     bataille d'Avesnes-le-Sec (en)  \n",
    "319                          bataille du Pont-Barré[7]  \n",
    "320                              bataille de Torfou[7]  \n",
    "454  En février on conseille à Bonaparte de porter ...  \n",
    "489           6 - 7 novembre bataille de Calliano (en)  \n",
    "502                        Expédition d'Irlande (1796)  \n",
    "504                        Expédition d'Irlande (1798)  \n",
    "\"\"\"\n",
    "\"\"\"\n",
    "#df2[['First','Last']] = df2.dateEtEvenement.str.split(r\"(.*?):\", n=1) #REGEX IMPORTANT DETERMINER PREMIER :\n",
    "for i in df['dateEtEvenement']: \n",
    "    if i.count(\":\") == 2:\n",
    "        print(i)\n",
    "    if i.count(\":\") == 0:\n",
    "        print(i)\n",
    "    \n",
    "#find a way to split\n",
    "#print(df2['Date et Evènement'].str.split(' : ', n=1, expand=True))\n",
    "#df3.columns = ['column{}'.format(x+1) for x in df3.columns]\n",
    "#print(df2)\n",
    "#print(df2['Date et Evènement'].str.split(' : ', 1).tolist(), columns = ['Date', 'Evènement'])\n",
    "\n",
    "#print(df2)\n",
    "\"\"\""
   ]
  },
  {
   "cell_type": "markdown",
   "id": "e0a4db0c-9bf0-4919-b664-6b158e415ca1",
   "metadata": {},
   "source": [
    "Source : <br>\n",
    "https://www.geeksforgeeks.org/web-scraping-from-wikipedia-using-python-a-complete-guide/ <br>"
   ]
  },
  {
   "cell_type": "code",
   "execution_count": null,
   "id": "e3f888f8-60d5-4fc8-af51-04b95dd9fd34",
   "metadata": {},
   "outputs": [],
   "source": [
    "2) Save data in file <br>\n",
    "https://stackoverflow.com/questions/31126596/saving-response-from-requests-to-file"
   ]
  },
  {
   "cell_type": "code",
   "execution_count": null,
   "id": "b633340e-6b41-452d-b462-7e10a0e9d4a8",
   "metadata": {},
   "outputs": [],
   "source": [
    "3) Plot as a a timeline <br>\n",
    "https://matplotlib.org/stable/gallery/lines_bars_and_markers/timeline.html\n",
    "https://coderzcolumn.com/tutorials/data-science/timeline-using-matplotlib"
   ]
  },
  {
   "cell_type": "code",
   "execution_count": null,
   "id": "cb987f2d-c95a-4107-ac34-520cd5af68f1",
   "metadata": {},
   "outputs": [],
   "source": []
  }
 ],
 "metadata": {
  "kernelspec": {
   "display_name": "Python [conda env:jupyter_env] *",
   "language": "python",
   "name": "conda-env-jupyter_env-py"
  },
  "language_info": {
   "codemirror_mode": {
    "name": "ipython",
    "version": 3
   },
   "file_extension": ".py",
   "mimetype": "text/x-python",
   "name": "python",
   "nbconvert_exporter": "python",
   "pygments_lexer": "ipython3",
   "version": "3.12.2"
  }
 },
 "nbformat": 4,
 "nbformat_minor": 5
}
